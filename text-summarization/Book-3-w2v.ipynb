{
 "cells": [
  {
   "cell_type": "code",
   "execution_count": 1,
   "metadata": {},
   "outputs": [],
   "source": [
    "import numpy as np\n",
    "import pandas as pd\n",
    "\n",
    "df = pd.read_csv(\"processed_dataset.csv\")\n",
    "\n",
    "text = list(df['text'])\n",
    "headlines = list(df['headline'])\n",
    "temp = []\n",
    "temp.extend(text)\n",
    "temp.extend(headlines)"
   ]
  },
  {
   "cell_type": "code",
   "execution_count": 2,
   "metadata": {},
   "outputs": [],
   "source": [
    "from keras.preprocessing.text import Tokenizer\n",
    "from keras.preprocessing.sequence import pad_sequences\n",
    "import numpy as np\n",
    "\n",
    "SENLEN = 400\n",
    "HEADLINES_SENLEN = 20\n",
    "MAXWORDS = 20000\n",
    "\n",
    "HEADLINES_MAXWORDS = 3000\n",
    "\n",
    "text_tokenizer = Tokenizer(num_words = MAXWORDS)\n",
    "text_tokenizer.fit_on_texts(text)\n",
    "\n",
    "headline_tokenizer = Tokenizer(num_words = HEADLINES_MAXWORDS)\n",
    "headline_tokenizer.fit_on_texts(headlines)\n",
    "\n",
    "def preprocess_sequences(text, seq_type):\n",
    "    \n",
    "    if(seq_type == \"text\"):\n",
    "        return pad_sequences(text_tokenizer.texts_to_sequences(text), maxlen = SENLEN, padding='pre')        \n",
    "    elif(seq_type == \"headline\"):\n",
    "        return pad_sequences(headline_tokenizer.texts_to_sequences(text), maxlen = HEADLINES_SENLEN, padding='pre')\n"
   ]
  },
  {
   "cell_type": "code",
   "execution_count": 3,
   "metadata": {},
   "outputs": [],
   "source": [
    "text_sequences = preprocess_sequences(text, \"text\")\n",
    "headline_sequences = preprocess_sequences(headlines, \"headline\")"
   ]
  },
  {
   "cell_type": "code",
   "execution_count": null,
   "metadata": {},
   "outputs": [],
   "source": []
  },
  {
   "cell_type": "code",
   "execution_count": 4,
   "metadata": {},
   "outputs": [],
   "source": [
    "embedding_dict = {}\n",
    "\n",
    "with open(\"../glove/archive/glove.6B.100d.txt\", \"r\") as f:\n",
    "    for line in f:\n",
    "        values = line.split()\n",
    "        word = values[0]\n",
    "        vectors = np.asarray(values[1:],\"float32\")\n",
    "        embedding_dict[word] = vectors\n",
    "f.close()\n",
    "\n",
    "embedding_dim = 100\n",
    "num_words = MAXWORDS + 1\n",
    "embedding_matrix = np.zeros((num_words, embedding_dim))\n",
    "\n",
    "for word, i in text_tokenizer.word_index.items():\n",
    "    if i < num_words:\n",
    "        embedding_vector = embedding_dict.get(word)\n",
    "        if embedding_vector is not None:\n",
    "            embedding_matrix[i] = embedding_vector\n",
    "            \n",
    "num_words_headlines = MAXWORDS + 1\n",
    "embedding_matrix_headlines = np.zeros((num_words_headlines, embedding_dim))\n",
    "\n",
    "for word, i in headline_tokenizer.word_index.items():\n",
    "    if i < num_words_headlines:\n",
    "        embedding_vector = embedding_dict.get(word)\n",
    "        if embedding_vector is not None:\n",
    "            embedding_matrix_headlines[i] = embedding_vector"
   ]
  },
  {
   "cell_type": "code",
   "execution_count": null,
   "metadata": {},
   "outputs": [],
   "source": []
  },
  {
   "cell_type": "code",
   "execution_count": 5,
   "metadata": {},
   "outputs": [
    {
     "name": "stdout",
     "output_type": "stream",
     "text": [
      "Model: \"model\"\n",
      "__________________________________________________________________________________________________\n",
      " Layer (type)                   Output Shape         Param #     Connected to                     \n",
      "==================================================================================================\n",
      " input_layer (InputLayer)       [(None, None)]       0           []                               \n",
      "                                                                                                  \n",
      " Embedding_layer_enc (Embedding  (None, None, 100)   2000100     ['input_layer[0][0]']            \n",
      " )                                                                                                \n",
      "                                                                                                  \n",
      " input_1 (InputLayer)           [(None, None)]       0           []                               \n",
      "                                                                                                  \n",
      " lstm (LSTM)                    [(None, None, 100),  80400       ['Embedding_layer_enc[0][0]']    \n",
      "                                 (None, 100),                                                     \n",
      "                                 (None, 100)]                                                     \n",
      "                                                                                                  \n",
      " Embedding_layer_dec (Embedding  (None, None, 100)   2000100     ['input_1[0][0]']                \n",
      " )                                                                                                \n",
      "                                                                                                  \n",
      " lstm_1 (LSTM)                  [(None, None, 100),  80400       ['lstm[0][0]']                   \n",
      "                                 (None, 100),                                                     \n",
      "                                 (None, 100)]                                                     \n",
      "                                                                                                  \n",
      " lstm_2 (LSTM)                  [(None, None, 100),  80400       ['Embedding_layer_dec[0][0]',    \n",
      "                                 (None, 100),                     'lstm_1[0][1]',                 \n",
      "                                 (None, 100)]                     'lstm_1[0][2]']                 \n",
      "                                                                                                  \n",
      " time_distributed (TimeDistribu  (None, None, 20)    2020        ['lstm_2[0][0]']                 \n",
      " ted)                                                                                             \n",
      "                                                                                                  \n",
      "==================================================================================================\n",
      "Total params: 4,243,420\n",
      "Trainable params: 243,220\n",
      "Non-trainable params: 4,000,200\n",
      "__________________________________________________________________________________________________\n"
     ]
    }
   ],
   "source": [
    "import tensorflow as tf\n",
    "\n",
    "latent_dim = 100\n",
    "\n",
    "input_layer = tf.keras.layers.Input(shape = (None,), name=\"input_layer\")\n",
    "embedding_layer = tf.keras.layers.Embedding(num_words, embedding_dim, weights = [embedding_matrix], input_length = SENLEN,trainable = False, name = \"Embedding_layer_enc\")(input_layer)\n",
    "\n",
    "#Encoder\n",
    "\n",
    "#encoder lstm 1\n",
    "encoder_lstm1 = tf.keras.layers.LSTM(latent_dim,return_sequences=True,return_state=True,dropout=0.2,recurrent_dropout=0.2)\n",
    "encoder_output1, state_h1, state_c1 = encoder_lstm1(embedding_layer)\n",
    "\n",
    "#encoder lstm 2\n",
    "encoder_lstm2 = tf.keras.layers.LSTM(latent_dim,return_sequences=True,return_state=True,dropout=0.2,recurrent_dropout=0.2)\n",
    "encoder_output2, state_h, state_c = encoder_lstm2(encoder_output1)\n",
    "\n",
    "decoder_inputs = tf.keras.layers.Input(shape=(None,))\n",
    "\n",
    "#embedding layer\n",
    "dec_emb_layer = tf.keras.layers.Embedding(num_words_headlines,\n",
    "                                          embedding_dim, \n",
    "                                          weights = [embedding_matrix_headlines], \n",
    "                                          input_length = HEADLINES_SENLEN,\n",
    "                                          trainable = False, \n",
    "                                          name = \"Embedding_layer_dec\"\n",
    "                                         )\n",
    "\n",
    "dec_emb = dec_emb_layer(decoder_inputs)\n",
    "\n",
    "decoder_lstm = tf.keras.layers.LSTM(latent_dim, return_sequences=True, return_state=True,dropout=0.2,recurrent_dropout=0.2)\n",
    "decoder_outputs,decoder_fwd_state, decoder_back_state = decoder_lstm(dec_emb,initial_state=[state_h, state_c])\n",
    "\n",
    "#dense layer\n",
    "decoder_dense =  tf.keras.layers.TimeDistributed(tf.keras.layers.Dense(HEADLINES_SENLEN, activation='relu'))\n",
    "decoder_outputs = decoder_dense(decoder_outputs)\n",
    "\n",
    "model = tf.keras.models.Model([input_layer, decoder_inputs], decoder_outputs)\n",
    "model.summary()\n"
   ]
  },
  {
   "cell_type": "code",
   "execution_count": 6,
   "metadata": {},
   "outputs": [],
   "source": [
    "model.compile(optimizer='adam', loss='sparse_categorical_crossentropy')\n",
    "es = tf.keras.callbacks.EarlyStopping(monitor='val_loss', mode='min', verbose=1,patience=2)"
   ]
  },
  {
   "cell_type": "code",
   "execution_count": 7,
   "metadata": {},
   "outputs": [
    {
     "name": "stdout",
     "output_type": "stream",
     "text": [
      "Epoch 1/50\n"
     ]
    },
    {
     "ename": "InvalidArgumentError",
     "evalue": "Graph execution error:\n\nDetected at node 'sparse_categorical_crossentropy/SparseSoftmaxCrossEntropyWithLogits/SparseSoftmaxCrossEntropyWithLogits' defined at (most recent call last):\n    File \"/Users/sampathroutu/opt/anaconda3/lib/python3.8/runpy.py\", line 194, in _run_module_as_main\n      return _run_code(code, main_globals, None,\n    File \"/Users/sampathroutu/opt/anaconda3/lib/python3.8/runpy.py\", line 87, in _run_code\n      exec(code, run_globals)\n    File \"/Users/sampathroutu/opt/anaconda3/lib/python3.8/site-packages/ipykernel_launcher.py\", line 16, in <module>\n      app.launch_new_instance()\n    File \"/Users/sampathroutu/opt/anaconda3/lib/python3.8/site-packages/traitlets/config/application.py\", line 664, in launch_instance\n      app.start()\n    File \"/Users/sampathroutu/opt/anaconda3/lib/python3.8/site-packages/ipykernel/kernelapp.py\", line 612, in start\n      self.io_loop.start()\n    File \"/Users/sampathroutu/opt/anaconda3/lib/python3.8/site-packages/tornado/platform/asyncio.py\", line 149, in start\n      self.asyncio_loop.run_forever()\n    File \"/Users/sampathroutu/opt/anaconda3/lib/python3.8/asyncio/base_events.py\", line 570, in run_forever\n      self._run_once()\n    File \"/Users/sampathroutu/opt/anaconda3/lib/python3.8/asyncio/base_events.py\", line 1859, in _run_once\n      handle._run()\n    File \"/Users/sampathroutu/opt/anaconda3/lib/python3.8/asyncio/events.py\", line 81, in _run\n      self._context.run(self._callback, *self._args)\n    File \"/Users/sampathroutu/opt/anaconda3/lib/python3.8/site-packages/tornado/ioloop.py\", line 690, in <lambda>\n      lambda f: self._run_callback(functools.partial(callback, future))\n    File \"/Users/sampathroutu/opt/anaconda3/lib/python3.8/site-packages/tornado/ioloop.py\", line 743, in _run_callback\n      ret = callback()\n    File \"/Users/sampathroutu/opt/anaconda3/lib/python3.8/site-packages/tornado/gen.py\", line 787, in inner\n      self.run()\n    File \"/Users/sampathroutu/opt/anaconda3/lib/python3.8/site-packages/tornado/gen.py\", line 748, in run\n      yielded = self.gen.send(value)\n    File \"/Users/sampathroutu/opt/anaconda3/lib/python3.8/site-packages/ipykernel/kernelbase.py\", line 381, in dispatch_queue\n      yield self.process_one()\n    File \"/Users/sampathroutu/opt/anaconda3/lib/python3.8/site-packages/tornado/gen.py\", line 225, in wrapper\n      runner = Runner(result, future, yielded)\n    File \"/Users/sampathroutu/opt/anaconda3/lib/python3.8/site-packages/tornado/gen.py\", line 714, in __init__\n      self.run()\n    File \"/Users/sampathroutu/opt/anaconda3/lib/python3.8/site-packages/tornado/gen.py\", line 748, in run\n      yielded = self.gen.send(value)\n    File \"/Users/sampathroutu/opt/anaconda3/lib/python3.8/site-packages/ipykernel/kernelbase.py\", line 365, in process_one\n      yield gen.maybe_future(dispatch(*args))\n    File \"/Users/sampathroutu/opt/anaconda3/lib/python3.8/site-packages/tornado/gen.py\", line 209, in wrapper\n      yielded = next(result)\n    File \"/Users/sampathroutu/opt/anaconda3/lib/python3.8/site-packages/ipykernel/kernelbase.py\", line 268, in dispatch_shell\n      yield gen.maybe_future(handler(stream, idents, msg))\n    File \"/Users/sampathroutu/opt/anaconda3/lib/python3.8/site-packages/tornado/gen.py\", line 209, in wrapper\n      yielded = next(result)\n    File \"/Users/sampathroutu/opt/anaconda3/lib/python3.8/site-packages/ipykernel/kernelbase.py\", line 543, in execute_request\n      self.do_execute(\n    File \"/Users/sampathroutu/opt/anaconda3/lib/python3.8/site-packages/tornado/gen.py\", line 209, in wrapper\n      yielded = next(result)\n    File \"/Users/sampathroutu/opt/anaconda3/lib/python3.8/site-packages/ipykernel/ipkernel.py\", line 306, in do_execute\n      res = shell.run_cell(code, store_history=store_history, silent=silent)\n    File \"/Users/sampathroutu/opt/anaconda3/lib/python3.8/site-packages/ipykernel/zmqshell.py\", line 536, in run_cell\n      return super(ZMQInteractiveShell, self).run_cell(*args, **kwargs)\n    File \"/Users/sampathroutu/opt/anaconda3/lib/python3.8/site-packages/IPython/core/interactiveshell.py\", line 2866, in run_cell\n      result = self._run_cell(\n    File \"/Users/sampathroutu/opt/anaconda3/lib/python3.8/site-packages/IPython/core/interactiveshell.py\", line 2895, in _run_cell\n      return runner(coro)\n    File \"/Users/sampathroutu/opt/anaconda3/lib/python3.8/site-packages/IPython/core/async_helpers.py\", line 68, in _pseudo_sync_runner\n      coro.send(None)\n    File \"/Users/sampathroutu/opt/anaconda3/lib/python3.8/site-packages/IPython/core/interactiveshell.py\", line 3071, in run_cell_async\n      has_raised = await self.run_ast_nodes(code_ast.body, cell_name,\n    File \"/Users/sampathroutu/opt/anaconda3/lib/python3.8/site-packages/IPython/core/interactiveshell.py\", line 3263, in run_ast_nodes\n      if (await self.run_code(code, result,  async_=asy)):\n    File \"/Users/sampathroutu/opt/anaconda3/lib/python3.8/site-packages/IPython/core/interactiveshell.py\", line 3343, in run_code\n      exec(code_obj, self.user_global_ns, self.user_ns)\n    File \"<ipython-input-7-8796c7512865>\", line 1, in <module>\n      history = model.fit([text_sequences, headline_sequences], headline_sequences,epochs = 50, callbacks=[es], batch_size=32,verbose = 1)\n    File \"/Users/sampathroutu/opt/anaconda3/lib/python3.8/site-packages/keras/utils/traceback_utils.py\", line 64, in error_handler\n      return fn(*args, **kwargs)\n    File \"/Users/sampathroutu/opt/anaconda3/lib/python3.8/site-packages/keras/engine/training.py\", line 1384, in fit\n      tmp_logs = self.train_function(iterator)\n    File \"/Users/sampathroutu/opt/anaconda3/lib/python3.8/site-packages/keras/engine/training.py\", line 1021, in train_function\n      return step_function(self, iterator)\n    File \"/Users/sampathroutu/opt/anaconda3/lib/python3.8/site-packages/keras/engine/training.py\", line 1010, in step_function\n      outputs = model.distribute_strategy.run(run_step, args=(data,))\n    File \"/Users/sampathroutu/opt/anaconda3/lib/python3.8/site-packages/keras/engine/training.py\", line 1000, in run_step\n      outputs = model.train_step(data)\n    File \"/Users/sampathroutu/opt/anaconda3/lib/python3.8/site-packages/keras/engine/training.py\", line 860, in train_step\n      loss = self.compute_loss(x, y, y_pred, sample_weight)\n    File \"/Users/sampathroutu/opt/anaconda3/lib/python3.8/site-packages/keras/engine/training.py\", line 918, in compute_loss\n      return self.compiled_loss(\n    File \"/Users/sampathroutu/opt/anaconda3/lib/python3.8/site-packages/keras/engine/compile_utils.py\", line 201, in __call__\n      loss_value = loss_obj(y_t, y_p, sample_weight=sw)\n    File \"/Users/sampathroutu/opt/anaconda3/lib/python3.8/site-packages/keras/losses.py\", line 141, in __call__\n      losses = call_fn(y_true, y_pred)\n    File \"/Users/sampathroutu/opt/anaconda3/lib/python3.8/site-packages/keras/losses.py\", line 245, in call\n      return ag_fn(y_true, y_pred, **self._fn_kwargs)\n    File \"/Users/sampathroutu/opt/anaconda3/lib/python3.8/site-packages/keras/losses.py\", line 1862, in sparse_categorical_crossentropy\n      return backend.sparse_categorical_crossentropy(\n    File \"/Users/sampathroutu/opt/anaconda3/lib/python3.8/site-packages/keras/backend.py\", line 5202, in sparse_categorical_crossentropy\n      res = tf.nn.sparse_softmax_cross_entropy_with_logits(\nNode: 'sparse_categorical_crossentropy/SparseSoftmaxCrossEntropyWithLogits/SparseSoftmaxCrossEntropyWithLogits'\nReceived a label value of 2911 which is outside the valid range of [0, 20).  Label values: 0 0 0 0 0 0 0 0 0 0 0 0 0 0 0 0 0 977 797 5 0 0 0 0 0 0 0 0 0 0 0 0 0 0 388 1366 137 232 57 29 0 0 0 0 0 0 0 0 0 0 0 0 0 0 0 904 835 2 927 309 0 0 0 0 0 0 0 0 0 0 0 0 0 0 0 354 5 241 597 2458 0 0 0 0 0 0 0 0 0 0 0 0 0 0 0 1842 749 1843 4 134 0 0 0 0 0 0 0 0 0 0 0 0 0 0 1275 1 2365 282 586 1293 0 0 0 0 0 0 0 0 0 0 0 0 0 0 0 332 1314 819 373 1299 0 0 0 0 0 0 0 0 0 0 0 0 0 0 0 0 176 891 505 1655 0 0 0 0 0 0 0 0 0 0 0 0 0 0 0 0 1659 675 1660 530 0 0 0 0 0 0 0 0 0 0 0 0 0 0 1806 1807 1082 7 10 1808 0 0 0 0 0 0 0 0 0 0 0 0 0 0 219 11 17 24 18 16 0 0 0 0 0 0 0 0 0 0 0 0 0 0 0 0 68 1 235 521 0 0 0 0 0 0 0 0 0 0 0 0 0 0 0 0 262 2 38 170 0 0 0 0 0 0 0 0 0 0 0 0 0 0 0 0 0 256 345 303 0 0 0 0 0 0 0 0 0 0 0 0 0 0 0 94 369 1594 176 2 0 0 0 0 0 0 0 0 0 0 0 0 0 0 0 6 581 585 2175 1216 0 0 0 0 0 0 0 0 0 0 0 0 0 0 0 14 46 8 341 1901 0 0 0 0 0 0 0 0 0 0 0 0 0 0 0 520 278 1 50 429 0 0 0 0 0 0 0 0 0 0 0 0 0 0 6 490 3 184 198 1645 0 0 0 0 0 0 0 0 0 0 0 0 0 0 0 390 1370 19 1371 1372 0 0 0 0 0 0 0 0 0 0 0 0 0 0 9 1513 1320 968 115 1514 0 0 0 0 0 0 0 0 0 0 0 0 0 0 910 113 2911 33 2 919 0 0 0 0 0 0 0 0 0 0 0 0 0 0 639 140 391 24 242 77 0 0 0 0 0 0 0 0 0 0 0 0 0 0 0 0 0 517 342 972 0 0 0 0 0 0 0 0 0 0 0 0 0 0 0 367 237 2372 3 2373 0 0 0 0 0 0 0 0 0 0 0 0 0 0 0 0 2814 2815 930 1344 0 0 0 0 0 0 0 0 0 0 0 0 0 0 0 9 263 1516 1 673 0 0 0 0 0 0 0 0 0 0 0 0 0 2475 40 15 4 2476 102 494 0 0 0 0 0 0 0 0 0 0 0 0 0 0 0 0 2500 63 2501 2502 0 0 0 0 0 0 0 0 0 0 0 0 0 1 177 4 14 18 16 1350 0 0 0 0 0 0 0 0 0 0 0 0 0 0 0 0 144 166 279 74 0 0 0 0 0 0 0 0 0 0 0 0 0 0 0 0 230 794 1397 2770\n\t [[{{node sparse_categorical_crossentropy/SparseSoftmaxCrossEntropyWithLogits/SparseSoftmaxCrossEntropyWithLogits}}]] [Op:__inference_train_function_10547]",
     "output_type": "error",
     "traceback": [
      "\u001b[0;31m---------------------------------------------------------------------------\u001b[0m",
      "\u001b[0;31mInvalidArgumentError\u001b[0m                      Traceback (most recent call last)",
      "\u001b[0;32m<ipython-input-7-8796c7512865>\u001b[0m in \u001b[0;36m<module>\u001b[0;34m\u001b[0m\n\u001b[0;32m----> 1\u001b[0;31m \u001b[0mhistory\u001b[0m \u001b[0;34m=\u001b[0m \u001b[0mmodel\u001b[0m\u001b[0;34m.\u001b[0m\u001b[0mfit\u001b[0m\u001b[0;34m(\u001b[0m\u001b[0;34m[\u001b[0m\u001b[0mtext_sequences\u001b[0m\u001b[0;34m,\u001b[0m \u001b[0mheadline_sequences\u001b[0m\u001b[0;34m]\u001b[0m\u001b[0;34m,\u001b[0m \u001b[0mheadline_sequences\u001b[0m\u001b[0;34m,\u001b[0m\u001b[0mepochs\u001b[0m \u001b[0;34m=\u001b[0m \u001b[0;36m50\u001b[0m\u001b[0;34m,\u001b[0m \u001b[0mcallbacks\u001b[0m\u001b[0;34m=\u001b[0m\u001b[0;34m[\u001b[0m\u001b[0mes\u001b[0m\u001b[0;34m]\u001b[0m\u001b[0;34m,\u001b[0m \u001b[0mbatch_size\u001b[0m\u001b[0;34m=\u001b[0m\u001b[0;36m32\u001b[0m\u001b[0;34m,\u001b[0m\u001b[0mverbose\u001b[0m \u001b[0;34m=\u001b[0m \u001b[0;36m1\u001b[0m\u001b[0;34m)\u001b[0m\u001b[0;34m\u001b[0m\u001b[0;34m\u001b[0m\u001b[0m\n\u001b[0m",
      "\u001b[0;32m~/opt/anaconda3/lib/python3.8/site-packages/keras/utils/traceback_utils.py\u001b[0m in \u001b[0;36merror_handler\u001b[0;34m(*args, **kwargs)\u001b[0m\n\u001b[1;32m     65\u001b[0m     \u001b[0;32mexcept\u001b[0m \u001b[0mException\u001b[0m \u001b[0;32mas\u001b[0m \u001b[0me\u001b[0m\u001b[0;34m:\u001b[0m  \u001b[0;31m# pylint: disable=broad-except\u001b[0m\u001b[0;34m\u001b[0m\u001b[0;34m\u001b[0m\u001b[0m\n\u001b[1;32m     66\u001b[0m       \u001b[0mfiltered_tb\u001b[0m \u001b[0;34m=\u001b[0m \u001b[0m_process_traceback_frames\u001b[0m\u001b[0;34m(\u001b[0m\u001b[0me\u001b[0m\u001b[0;34m.\u001b[0m\u001b[0m__traceback__\u001b[0m\u001b[0;34m)\u001b[0m\u001b[0;34m\u001b[0m\u001b[0;34m\u001b[0m\u001b[0m\n\u001b[0;32m---> 67\u001b[0;31m       \u001b[0;32mraise\u001b[0m \u001b[0me\u001b[0m\u001b[0;34m.\u001b[0m\u001b[0mwith_traceback\u001b[0m\u001b[0;34m(\u001b[0m\u001b[0mfiltered_tb\u001b[0m\u001b[0;34m)\u001b[0m \u001b[0;32mfrom\u001b[0m \u001b[0;32mNone\u001b[0m\u001b[0;34m\u001b[0m\u001b[0;34m\u001b[0m\u001b[0m\n\u001b[0m\u001b[1;32m     68\u001b[0m     \u001b[0;32mfinally\u001b[0m\u001b[0;34m:\u001b[0m\u001b[0;34m\u001b[0m\u001b[0;34m\u001b[0m\u001b[0m\n\u001b[1;32m     69\u001b[0m       \u001b[0;32mdel\u001b[0m \u001b[0mfiltered_tb\u001b[0m\u001b[0;34m\u001b[0m\u001b[0;34m\u001b[0m\u001b[0m\n",
      "\u001b[0;32m~/opt/anaconda3/lib/python3.8/site-packages/tensorflow/python/eager/execute.py\u001b[0m in \u001b[0;36mquick_execute\u001b[0;34m(op_name, num_outputs, inputs, attrs, ctx, name)\u001b[0m\n\u001b[1;32m     52\u001b[0m   \u001b[0;32mtry\u001b[0m\u001b[0;34m:\u001b[0m\u001b[0;34m\u001b[0m\u001b[0;34m\u001b[0m\u001b[0m\n\u001b[1;32m     53\u001b[0m     \u001b[0mctx\u001b[0m\u001b[0;34m.\u001b[0m\u001b[0mensure_initialized\u001b[0m\u001b[0;34m(\u001b[0m\u001b[0;34m)\u001b[0m\u001b[0;34m\u001b[0m\u001b[0;34m\u001b[0m\u001b[0m\n\u001b[0;32m---> 54\u001b[0;31m     tensors = pywrap_tfe.TFE_Py_Execute(ctx._handle, device_name, op_name,\n\u001b[0m\u001b[1;32m     55\u001b[0m                                         inputs, attrs, num_outputs)\n\u001b[1;32m     56\u001b[0m   \u001b[0;32mexcept\u001b[0m \u001b[0mcore\u001b[0m\u001b[0;34m.\u001b[0m\u001b[0m_NotOkStatusException\u001b[0m \u001b[0;32mas\u001b[0m \u001b[0me\u001b[0m\u001b[0;34m:\u001b[0m\u001b[0;34m\u001b[0m\u001b[0;34m\u001b[0m\u001b[0m\n",
      "\u001b[0;31mInvalidArgumentError\u001b[0m: Graph execution error:\n\nDetected at node 'sparse_categorical_crossentropy/SparseSoftmaxCrossEntropyWithLogits/SparseSoftmaxCrossEntropyWithLogits' defined at (most recent call last):\n    File \"/Users/sampathroutu/opt/anaconda3/lib/python3.8/runpy.py\", line 194, in _run_module_as_main\n      return _run_code(code, main_globals, None,\n    File \"/Users/sampathroutu/opt/anaconda3/lib/python3.8/runpy.py\", line 87, in _run_code\n      exec(code, run_globals)\n    File \"/Users/sampathroutu/opt/anaconda3/lib/python3.8/site-packages/ipykernel_launcher.py\", line 16, in <module>\n      app.launch_new_instance()\n    File \"/Users/sampathroutu/opt/anaconda3/lib/python3.8/site-packages/traitlets/config/application.py\", line 664, in launch_instance\n      app.start()\n    File \"/Users/sampathroutu/opt/anaconda3/lib/python3.8/site-packages/ipykernel/kernelapp.py\", line 612, in start\n      self.io_loop.start()\n    File \"/Users/sampathroutu/opt/anaconda3/lib/python3.8/site-packages/tornado/platform/asyncio.py\", line 149, in start\n      self.asyncio_loop.run_forever()\n    File \"/Users/sampathroutu/opt/anaconda3/lib/python3.8/asyncio/base_events.py\", line 570, in run_forever\n      self._run_once()\n    File \"/Users/sampathroutu/opt/anaconda3/lib/python3.8/asyncio/base_events.py\", line 1859, in _run_once\n      handle._run()\n    File \"/Users/sampathroutu/opt/anaconda3/lib/python3.8/asyncio/events.py\", line 81, in _run\n      self._context.run(self._callback, *self._args)\n    File \"/Users/sampathroutu/opt/anaconda3/lib/python3.8/site-packages/tornado/ioloop.py\", line 690, in <lambda>\n      lambda f: self._run_callback(functools.partial(callback, future))\n    File \"/Users/sampathroutu/opt/anaconda3/lib/python3.8/site-packages/tornado/ioloop.py\", line 743, in _run_callback\n      ret = callback()\n    File \"/Users/sampathroutu/opt/anaconda3/lib/python3.8/site-packages/tornado/gen.py\", line 787, in inner\n      self.run()\n    File \"/Users/sampathroutu/opt/anaconda3/lib/python3.8/site-packages/tornado/gen.py\", line 748, in run\n      yielded = self.gen.send(value)\n    File \"/Users/sampathroutu/opt/anaconda3/lib/python3.8/site-packages/ipykernel/kernelbase.py\", line 381, in dispatch_queue\n      yield self.process_one()\n    File \"/Users/sampathroutu/opt/anaconda3/lib/python3.8/site-packages/tornado/gen.py\", line 225, in wrapper\n      runner = Runner(result, future, yielded)\n    File \"/Users/sampathroutu/opt/anaconda3/lib/python3.8/site-packages/tornado/gen.py\", line 714, in __init__\n      self.run()\n    File \"/Users/sampathroutu/opt/anaconda3/lib/python3.8/site-packages/tornado/gen.py\", line 748, in run\n      yielded = self.gen.send(value)\n    File \"/Users/sampathroutu/opt/anaconda3/lib/python3.8/site-packages/ipykernel/kernelbase.py\", line 365, in process_one\n      yield gen.maybe_future(dispatch(*args))\n    File \"/Users/sampathroutu/opt/anaconda3/lib/python3.8/site-packages/tornado/gen.py\", line 209, in wrapper\n      yielded = next(result)\n    File \"/Users/sampathroutu/opt/anaconda3/lib/python3.8/site-packages/ipykernel/kernelbase.py\", line 268, in dispatch_shell\n      yield gen.maybe_future(handler(stream, idents, msg))\n    File \"/Users/sampathroutu/opt/anaconda3/lib/python3.8/site-packages/tornado/gen.py\", line 209, in wrapper\n      yielded = next(result)\n    File \"/Users/sampathroutu/opt/anaconda3/lib/python3.8/site-packages/ipykernel/kernelbase.py\", line 543, in execute_request\n      self.do_execute(\n    File \"/Users/sampathroutu/opt/anaconda3/lib/python3.8/site-packages/tornado/gen.py\", line 209, in wrapper\n      yielded = next(result)\n    File \"/Users/sampathroutu/opt/anaconda3/lib/python3.8/site-packages/ipykernel/ipkernel.py\", line 306, in do_execute\n      res = shell.run_cell(code, store_history=store_history, silent=silent)\n    File \"/Users/sampathroutu/opt/anaconda3/lib/python3.8/site-packages/ipykernel/zmqshell.py\", line 536, in run_cell\n      return super(ZMQInteractiveShell, self).run_cell(*args, **kwargs)\n    File \"/Users/sampathroutu/opt/anaconda3/lib/python3.8/site-packages/IPython/core/interactiveshell.py\", line 2866, in run_cell\n      result = self._run_cell(\n    File \"/Users/sampathroutu/opt/anaconda3/lib/python3.8/site-packages/IPython/core/interactiveshell.py\", line 2895, in _run_cell\n      return runner(coro)\n    File \"/Users/sampathroutu/opt/anaconda3/lib/python3.8/site-packages/IPython/core/async_helpers.py\", line 68, in _pseudo_sync_runner\n      coro.send(None)\n    File \"/Users/sampathroutu/opt/anaconda3/lib/python3.8/site-packages/IPython/core/interactiveshell.py\", line 3071, in run_cell_async\n      has_raised = await self.run_ast_nodes(code_ast.body, cell_name,\n    File \"/Users/sampathroutu/opt/anaconda3/lib/python3.8/site-packages/IPython/core/interactiveshell.py\", line 3263, in run_ast_nodes\n      if (await self.run_code(code, result,  async_=asy)):\n    File \"/Users/sampathroutu/opt/anaconda3/lib/python3.8/site-packages/IPython/core/interactiveshell.py\", line 3343, in run_code\n      exec(code_obj, self.user_global_ns, self.user_ns)\n    File \"<ipython-input-7-8796c7512865>\", line 1, in <module>\n      history = model.fit([text_sequences, headline_sequences], headline_sequences,epochs = 50, callbacks=[es], batch_size=32,verbose = 1)\n    File \"/Users/sampathroutu/opt/anaconda3/lib/python3.8/site-packages/keras/utils/traceback_utils.py\", line 64, in error_handler\n      return fn(*args, **kwargs)\n    File \"/Users/sampathroutu/opt/anaconda3/lib/python3.8/site-packages/keras/engine/training.py\", line 1384, in fit\n      tmp_logs = self.train_function(iterator)\n    File \"/Users/sampathroutu/opt/anaconda3/lib/python3.8/site-packages/keras/engine/training.py\", line 1021, in train_function\n      return step_function(self, iterator)\n    File \"/Users/sampathroutu/opt/anaconda3/lib/python3.8/site-packages/keras/engine/training.py\", line 1010, in step_function\n      outputs = model.distribute_strategy.run(run_step, args=(data,))\n    File \"/Users/sampathroutu/opt/anaconda3/lib/python3.8/site-packages/keras/engine/training.py\", line 1000, in run_step\n      outputs = model.train_step(data)\n    File \"/Users/sampathroutu/opt/anaconda3/lib/python3.8/site-packages/keras/engine/training.py\", line 860, in train_step\n      loss = self.compute_loss(x, y, y_pred, sample_weight)\n    File \"/Users/sampathroutu/opt/anaconda3/lib/python3.8/site-packages/keras/engine/training.py\", line 918, in compute_loss\n      return self.compiled_loss(\n    File \"/Users/sampathroutu/opt/anaconda3/lib/python3.8/site-packages/keras/engine/compile_utils.py\", line 201, in __call__\n      loss_value = loss_obj(y_t, y_p, sample_weight=sw)\n    File \"/Users/sampathroutu/opt/anaconda3/lib/python3.8/site-packages/keras/losses.py\", line 141, in __call__\n      losses = call_fn(y_true, y_pred)\n    File \"/Users/sampathroutu/opt/anaconda3/lib/python3.8/site-packages/keras/losses.py\", line 245, in call\n      return ag_fn(y_true, y_pred, **self._fn_kwargs)\n    File \"/Users/sampathroutu/opt/anaconda3/lib/python3.8/site-packages/keras/losses.py\", line 1862, in sparse_categorical_crossentropy\n      return backend.sparse_categorical_crossentropy(\n    File \"/Users/sampathroutu/opt/anaconda3/lib/python3.8/site-packages/keras/backend.py\", line 5202, in sparse_categorical_crossentropy\n      res = tf.nn.sparse_softmax_cross_entropy_with_logits(\nNode: 'sparse_categorical_crossentropy/SparseSoftmaxCrossEntropyWithLogits/SparseSoftmaxCrossEntropyWithLogits'\nReceived a label value of 2911 which is outside the valid range of [0, 20).  Label values: 0 0 0 0 0 0 0 0 0 0 0 0 0 0 0 0 0 977 797 5 0 0 0 0 0 0 0 0 0 0 0 0 0 0 388 1366 137 232 57 29 0 0 0 0 0 0 0 0 0 0 0 0 0 0 0 904 835 2 927 309 0 0 0 0 0 0 0 0 0 0 0 0 0 0 0 354 5 241 597 2458 0 0 0 0 0 0 0 0 0 0 0 0 0 0 0 1842 749 1843 4 134 0 0 0 0 0 0 0 0 0 0 0 0 0 0 1275 1 2365 282 586 1293 0 0 0 0 0 0 0 0 0 0 0 0 0 0 0 332 1314 819 373 1299 0 0 0 0 0 0 0 0 0 0 0 0 0 0 0 0 176 891 505 1655 0 0 0 0 0 0 0 0 0 0 0 0 0 0 0 0 1659 675 1660 530 0 0 0 0 0 0 0 0 0 0 0 0 0 0 1806 1807 1082 7 10 1808 0 0 0 0 0 0 0 0 0 0 0 0 0 0 219 11 17 24 18 16 0 0 0 0 0 0 0 0 0 0 0 0 0 0 0 0 68 1 235 521 0 0 0 0 0 0 0 0 0 0 0 0 0 0 0 0 262 2 38 170 0 0 0 0 0 0 0 0 0 0 0 0 0 0 0 0 0 256 345 303 0 0 0 0 0 0 0 0 0 0 0 0 0 0 0 94 369 1594 176 2 0 0 0 0 0 0 0 0 0 0 0 0 0 0 0 6 581 585 2175 1216 0 0 0 0 0 0 0 0 0 0 0 0 0 0 0 14 46 8 341 1901 0 0 0 0 0 0 0 0 0 0 0 0 0 0 0 520 278 1 50 429 0 0 0 0 0 0 0 0 0 0 0 0 0 0 6 490 3 184 198 1645 0 0 0 0 0 0 0 0 0 0 0 0 0 0 0 390 1370 19 1371 1372 0 0 0 0 0 0 0 0 0 0 0 0 0 0 9 1513 1320 968 115 1514 0 0 0 0 0 0 0 0 0 0 0 0 0 0 910 113 2911 33 2 919 0 0 0 0 0 0 0 0 0 0 0 0 0 0 639 140 391 24 242 77 0 0 0 0 0 0 0 0 0 0 0 0 0 0 0 0 0 517 342 972 0 0 0 0 0 0 0 0 0 0 0 0 0 0 0 367 237 2372 3 2373 0 0 0 0 0 0 0 0 0 0 0 0 0 0 0 0 2814 2815 930 1344 0 0 0 0 0 0 0 0 0 0 0 0 0 0 0 9 263 1516 1 673 0 0 0 0 0 0 0 0 0 0 0 0 0 2475 40 15 4 2476 102 494 0 0 0 0 0 0 0 0 0 0 0 0 0 0 0 0 2500 63 2501 2502 0 0 0 0 0 0 0 0 0 0 0 0 0 1 177 4 14 18 16 1350 0 0 0 0 0 0 0 0 0 0 0 0 0 0 0 0 144 166 279 74 0 0 0 0 0 0 0 0 0 0 0 0 0 0 0 0 230 794 1397 2770\n\t [[{{node sparse_categorical_crossentropy/SparseSoftmaxCrossEntropyWithLogits/SparseSoftmaxCrossEntropyWithLogits}}]] [Op:__inference_train_function_10547]"
     ]
    }
   ],
   "source": [
    "history = model.fit([text_sequences, headline_sequences], headline_sequences,epochs = 50, callbacks=[es], batch_size=32,verbose = 1)"
   ]
  },
  {
   "cell_type": "code",
   "execution_count": 10,
   "metadata": {},
   "outputs": [
    {
     "data": {
      "text/plain": [
       "(2225, 400)"
      ]
     },
     "execution_count": 10,
     "metadata": {},
     "output_type": "execute_result"
    }
   ],
   "source": []
  }
 ],
 "metadata": {
  "kernelspec": {
   "display_name": "Python 3",
   "language": "python",
   "name": "python3"
  },
  "language_info": {
   "codemirror_mode": {
    "name": "ipython",
    "version": 3
   },
   "file_extension": ".py",
   "mimetype": "text/x-python",
   "name": "python",
   "nbconvert_exporter": "python",
   "pygments_lexer": "ipython3",
   "version": "3.8.3"
  }
 },
 "nbformat": 4,
 "nbformat_minor": 4
}
