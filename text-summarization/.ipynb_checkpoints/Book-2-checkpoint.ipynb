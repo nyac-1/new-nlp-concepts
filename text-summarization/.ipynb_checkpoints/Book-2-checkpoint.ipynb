{
 "cells": [
  {
   "cell_type": "code",
   "execution_count": 1,
   "metadata": {},
   "outputs": [],
   "source": [
    "import numpy as np\n",
    "import pandas as pd\n",
    "\n",
    "df = pd.read_csv(\"processed_dataset.csv\")"
   ]
  },
  {
   "cell_type": "code",
   "execution_count": 2,
   "metadata": {},
   "outputs": [],
   "source": [
    "from collections import Counter\n",
    "\n",
    "def get_vocab(lst):\n",
    "    vocabcount = Counter(w for txt in lst for w in txt.split())\n",
    "    vocab = map(lambda x: x[0], sorted(vocabcount.items(), key=lambda x: -x[1]))\n",
    "    return vocab, vocabcount"
   ]
  },
  {
   "cell_type": "code",
   "execution_count": 75,
   "metadata": {},
   "outputs": [],
   "source": [
    "text = list(df['text'])\n",
    "headlines = list(df['headline'])\n",
    "temp = []\n",
    "temp.extend(text)\n",
    "temp.extend(headlines)\n",
    "\n",
    "vocab, vocabcount = get_vocab(text)\n",
    "vocabcount = {k: v for k, v in sorted(vocabcount.items(), key=lambda item: item[1])}"
   ]
  },
  {
   "cell_type": "code",
   "execution_count": 4,
   "metadata": {},
   "outputs": [
    {
     "data": {
      "image/png": "[encoded data removed]",
      "text/plain": [
       "<Figure size 432x288 with 1 Axes>"
      ]
     },
     "metadata": {
      "needs_background": "light"
     },
     "output_type": "display_data"
    }
   ],
   "source": [
    "import matplotlib.pyplot as plt\n",
    "%matplotlib inline\n",
    "plt.plot([vocabcount[w] for w in vocab]);\n",
    "plt.gca().set_xscale(\"log\", nonposx='clip')\n",
    "plt.gca().set_yscale(\"log\", nonposy='clip')\n",
    "plt.title('word distribution in headlines and discription')\n",
    "plt.xlabel('rank')\n",
    "plt.ylabel('total appearances');"
   ]
  },
  {
   "cell_type": "code",
   "execution_count": 5,
   "metadata": {},
   "outputs": [],
   "source": [
    "from keras.preprocessing.text import Tokenizer\n",
    "from keras.preprocessing.sequence import pad_sequences\n",
    "import numpy as np\n",
    "\n",
    "maxlen = 400\n",
    "max_words = 25000\n",
    "\n",
    "text_tokenizer = Tokenizer(num_words = max_words)\n",
    "text_tokenizer.fit_on_texts(text)\n",
    "text_sequences = pad_sequences(text_tokenizer.texts_to_sequences(text), maxlen = maxlen, padding='post')\n",
    "word_index = text_tokenizer.word_index\n",
    "\n",
    "# headlines_tokenizer = Tokenizer(num_words=num_words)\n",
    "# headlines_tokenizer.fit_on_texts(headlines)\n",
    "# headline_sequences = pad_sequences(headlines_tokenizer.texts_to_sequences(headlines), maxlen = maxlen)"
   ]
  },
  {
   "cell_type": "code",
   "execution_count": 6,
   "metadata": {},
   "outputs": [],
   "source": [
    "embedding_dict = {}\n",
    "\n",
    "with open(\"../glove/archive/glove.6B.100d.txt\", \"r\") as f:\n",
    "    for line in f:\n",
    "        values = line.split()\n",
    "        word = values[0]\n",
    "        vectors = np.asarray(values[1:],\"float32\")\n",
    "        embedding_dict[word] = vectors\n",
    "f.close()\n",
    "\n",
    "embedding_dim = 100\n",
    "num_words = max_words + 1\n",
    "embedding_matrix = np.zeros((num_words, embedding_dim))\n",
    "\n",
    "for word, i in word_index.items():\n",
    "    if i < num_words:\n",
    "        embedding_vector = embedding_dict.get(word)\n",
    "        if embedding_vector is not None:\n",
    "            embedding_matrix[i] = embedding_vector"
   ]
  },
  {
   "cell_type": "code",
   "execution_count": 72,
   "metadata": {},
   "outputs": [],
   "source": [
    "from keras.models import Sequential\n",
    "from keras.layers import Embedding, Flatten, Dense, LSTM, Dropout, Activation\n",
    "from keras.initializers import Constant\n",
    "\n",
    "def build_model(embeddings):\n",
    "    lstm_size = 100\n",
    "    p_dense = 0.2\n",
    "    \n",
    "    \n",
    "    model = Sequential()\n",
    "    model.add(Embedding(num_words,100, weights = [embedding_matrix], input_length = maxlen, trainable = False))\n",
    "    \n",
    "    model.add(LSTM(64, input_shape = (400,100), return_sequences= True))\n",
    "    model.add(LSTM(64, return_sequences = True))\n",
    "    model.add(LSTM(32))\n",
    "    model.add(Dense(32, activation=\"softmax\"))\n",
    "\n",
    "    return model\n"
   ]
  },
  {
   "cell_type": "code",
   "execution_count": 73,
   "metadata": {
    "scrolled": false
   },
   "outputs": [],
   "source": [
    "encoder = build_model(embedding_matrix)"
   ]
  },
  {
   "cell_type": "code",
   "execution_count": 74,
   "metadata": {},
   "outputs": [
    {
     "name": "stdout",
     "output_type": "stream",
     "text": [
      "Model: \"sequential_22\"\n",
      "_________________________________________________________________\n",
      "Layer (type)                 Output Shape              Param #   \n",
      "=================================================================\n",
      "embedding_22 (Embedding)     (None, 400, 100)          2000100   \n",
      "_________________________________________________________________\n",
      "lstm_26 (LSTM)               (None, 400, 64)           42240     \n",
      "_________________________________________________________________\n",
      "lstm_27 (LSTM)               (None, 400, 64)           33024     \n",
      "_________________________________________________________________\n",
      "lstm_28 (LSTM)               (None, 32)                12416     \n",
      "_________________________________________________________________\n",
      "dense_9 (Dense)              (None, 32)                1056      \n",
      "=================================================================\n",
      "Total params: 2,088,836\n",
      "Trainable params: 88,736\n",
      "Non-trainable params: 2,000,100\n",
      "_________________________________________________________________\n"
     ]
    }
   ],
   "source": [
    "encoder.summary()"
   ]
  },
  {
   "cell_type": "code",
   "execution_count": 23,
   "metadata": {},
   "outputs": [
    {
     "data": {
      "text/plain": [
       "array([916, 346, 435, 397, 692,  65, 362, 590, 275, 906])"
      ]
     },
     "execution_count": 23,
     "metadata": {},
     "output_type": "execute_result"
    }
   ],
   "source": [
    "np.random.randint(1000, size=(32, 10))[0]"
   ]
  },
  {
   "cell_type": "code",
   "execution_count": 18,
   "metadata": {},
   "outputs": [
    {
     "data": {
      "text/plain": [
       "(100000, 300)"
      ]
     },
     "execution_count": 18,
     "metadata": {},
     "output_type": "execute_result"
    }
   ],
   "source": []
  },
  {
   "cell_type": "code",
   "execution_count": null,
   "metadata": {},
   "outputs": [],
   "source": []
  }
 ],
 "metadata": {
  "kernelspec": {
   "display_name": "Python 3",
   "language": "python",
   "name": "python3"
  },
  "language_info": {
   "codemirror_mode": {
    "name": "ipython",
    "version": 3
   },
   "file_extension": ".py",
   "mimetype": "text/x-python",
   "name": "python",
   "nbconvert_exporter": "python",
   "pygments_lexer": "ipython3",
   "version": "3.8.3"
  }
 },
 "nbformat": 4,
 "nbformat_minor": 4
}
